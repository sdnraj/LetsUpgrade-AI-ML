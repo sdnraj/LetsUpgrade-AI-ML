{
 "cells": [
  {
   "cell_type": "markdown",
   "metadata": {},
   "source": [
    "# Question 1 :\n",
    "Write a Python program to find the first 20 non-even prime natural numbers.\n"
   ]
  },
  {
   "cell_type": "code",
   "execution_count": 1,
   "metadata": {},
   "outputs": [
    {
     "name": "stdout",
     "output_type": "stream",
     "text": [
      "3 5 7 11 13 17 19 23 29 31 37 41 43 47 53 59 61 67 71 73 "
     ]
    }
   ],
   "source": [
    "count=0\n",
    "i=3\n",
    "while count<20:\n",
    "    flag=0\n",
    "    j=2\n",
    "    while j<=int(i**0.5):\n",
    "        if i%j==0:\n",
    "            flag+=1\n",
    "        j+=1\n",
    "    if flag==0:\n",
    "        print(i,end=\" \")\n",
    "        count+=1\n",
    "    i+=1"
   ]
  },
  {
   "cell_type": "markdown",
   "metadata": {},
   "source": [
    "# Question 2 :\n",
    "Write a Python program to implement 15 functions of string.\n"
   ]
  },
  {
   "cell_type": "code",
   "execution_count": 2,
   "metadata": {},
   "outputs": [
    {
     "name": "stdout",
     "output_type": "stream",
     "text": [
      "Write a python program to implement 15 functions of string\n",
      "write a python program to implement 15 functions of string\n",
      "58\n",
      "WRITE A pYTHON PROGRAM TO IMPLEMENT 15 FUNCTIONS OF STRING\n",
      "WRITE A PYTHON PROGRAM TO IMPLEMENT 15 FUNCTIONS OF STRING\n",
      "False\n",
      "False\n",
      "False\n",
      "False\n",
      "False\n",
      "False\n",
      "Write A Python Program To Implement 15 Functions Of String\n",
      "w r i t e   a   P y t h o n   p r o g r a m   t o   i m p l e m e n t   1 5   f u n c t i o n s   o f   s t r i n g\n",
      "gnirts fo snoitcnuf 51 tnemelpmi ot margorp nohtyP a etirw\n",
      "read a Python program to implement 15 functions of string\n"
     ]
    }
   ],
   "source": [
    "a=\"write a Python program to implement 15 functions of string\"\n",
    "b=a.capitalize()\n",
    "print(b)\n",
    "b=a.lower()\n",
    "print(b)\n",
    "b=len(a)\n",
    "print(b)\n",
    "b=a.swapcase()\n",
    "print(b)\n",
    "b=a.upper()\n",
    "print(b)\n",
    "b=a.isalnum()\n",
    "print(b)\n",
    "b=a.isalpha()\n",
    "print(b)\n",
    "b=a.islower()\n",
    "print(b)\n",
    "b=a.isnumeric()\n",
    "print(b)\n",
    "b=a.isspace()\n",
    "print(b)\n",
    "b=a.isupper()\n",
    "print(b)\n",
    "b=a.title()\n",
    "print(b)\n",
    "b=\" \".join(a)\n",
    "print(b)\n",
    "b=\"\".join(reversed(a))\n",
    "print(b)\n",
    "b=a.replace('write','read')\n",
    "print(b)"
   ]
  },
  {
   "cell_type": "markdown",
   "metadata": {},
   "source": [
    "# Question 3:\n",
    "Write a Python program to check if the given string is a Palindrome or Anagram or None of them.\n",
    "Display the message accordingly to the user.\n"
   ]
  },
  {
   "cell_type": "code",
   "execution_count": 5,
   "metadata": {},
   "outputs": [
    {
     "name": "stdout",
     "output_type": "stream",
     "text": [
      "enter a stringdad\n",
      "enter a stringadd\n",
      "both are anagram and palindrome\n"
     ]
    }
   ],
   "source": [
    "a=input(\"enter a string\")\n",
    "b=input(\"enter a string\")\n",
    "\n",
    "if a ==a[::-1]:\n",
    "   \n",
    "    if sorted(a)==sorted(b):\n",
    "        print('both are anagram and palindrome')\n",
    "    else:\n",
    "        print('its a palindrome')\n",
    "elif sorted(a)==sorted(b):\n",
    "    if a ==a[::-1]:\n",
    "        print('both are anagram and palindrome')\n",
    "    else:\n",
    "        print('they are anagram')\n",
    "else:\n",
    "    print('nither anagram or palindrome')\n",
    "        \n",
    "        \n",
    "    "
   ]
  },
  {
   "cell_type": "markdown",
   "metadata": {},
   "source": [
    "# Question 4:\n",
    "Write a Python's user defined function that removes all the additional characters from the string\n",
    "and converts it finally to lower case using built-in lower(). eg: If the string is \"Dr. Darshan Ingle\n",
    "@AI-ML Trainer\", then the output be \"drdarshaningleaimltrainer\"."
   ]
  },
  {
   "cell_type": "code",
   "execution_count": 6,
   "metadata": {},
   "outputs": [
    {
     "name": "stdout",
     "output_type": "stream",
     "text": [
      "enterefagrdddd6166%%%cv\n",
      "first result:  efagrddddcv\n"
     ]
    }
   ],
   "source": [
    "def strinconv():\n",
    "    a =input('enter')\n",
    "    b = \"\" \n",
    "    for i in a: \n",
    "        if i.isalpha(): \n",
    "            b = \"\".join([b, i]) \n",
    "  \n",
    "  \n",
    " \n",
    "    print (\"first result: \", str(b.lower())) \n",
    "        \n",
    "    \n",
    "    \n",
    "strinconv()    \n",
    "     \n",
    "  "
   ]
  },
  {
   "cell_type": "code",
   "execution_count": null,
   "metadata": {},
   "outputs": [],
   "source": []
  },
  {
   "cell_type": "code",
   "execution_count": null,
   "metadata": {},
   "outputs": [],
   "source": []
  }
 ],
 "metadata": {
  "kernelspec": {
   "display_name": "Python 3",
   "language": "python",
   "name": "python3"
  },
  "language_info": {
   "codemirror_mode": {
    "name": "ipython",
    "version": 3
   },
   "file_extension": ".py",
   "mimetype": "text/x-python",
   "name": "python",
   "nbconvert_exporter": "python",
   "pygments_lexer": "ipython3",
   "version": "3.7.6"
  }
 },
 "nbformat": 4,
 "nbformat_minor": 4
}

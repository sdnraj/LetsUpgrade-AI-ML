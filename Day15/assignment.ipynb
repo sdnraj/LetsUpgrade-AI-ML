{
 "cells": [
  {
   "cell_type": "markdown",
   "metadata": {},
   "source": [
    "# Assignment Day 14-15"
   ]
  },
  {
   "cell_type": "markdown",
   "metadata": {},
   "source": [
    "## Create a 3x3x3 array with random values"
   ]
  },
  {
   "cell_type": "code",
   "execution_count": 1,
   "metadata": {},
   "outputs": [
    {
     "name": "stdout",
     "output_type": "stream",
     "text": [
      "[[[0.85242295 0.0052326  0.518735  ]\n",
      "  [0.22144095 0.40633722 0.95126367]\n",
      "  [0.45555302 0.45248253 0.0433782 ]]\n",
      "\n",
      " [[0.63843895 0.17011626 0.31074252]\n",
      "  [0.99117616 0.71517084 0.51716585]\n",
      "  [0.41293892 0.77837537 0.55721423]]\n",
      "\n",
      " [[0.82216365 0.35601712 0.0876602 ]\n",
      "  [0.8672428  0.46775844 0.46495184]\n",
      "  [0.19816525 0.39475561 0.7168616 ]]]\n"
     ]
    }
   ],
   "source": [
    "\n",
    "import numpy as np\n",
    "x= np.random.random((3,3,3))\n",
    "print(x)"
   ]
  },
  {
   "cell_type": "markdown",
   "metadata": {},
   "source": [
    "## Create a 5x5 matrix with values 1,2,3,4 just below the diagonal"
   ]
  },
  {
   "cell_type": "code",
   "execution_count": 2,
   "metadata": {},
   "outputs": [
    {
     "data": {
      "text/plain": [
       "array([[0, 0, 0, 0, 0],\n",
       "       [1, 0, 0, 0, 0],\n",
       "       [0, 2, 0, 0, 0],\n",
       "       [0, 0, 3, 0, 0],\n",
       "       [0, 0, 0, 4, 0]])"
      ]
     },
     "execution_count": 2,
     "metadata": {},
     "output_type": "execute_result"
    }
   ],
   "source": [
    "z= np.diag(1+np.arange(4),k=-1)\n",
    "z"
   ]
  },
  {
   "cell_type": "markdown",
   "metadata": {},
   "source": [
    "## Create a 8x8 matrix and fill it with a checkerboard pattern"
   ]
  },
  {
   "cell_type": "code",
   "execution_count": 3,
   "metadata": {},
   "outputs": [
    {
     "data": {
      "text/plain": [
       "array([[0, 1, 0, 1, 0, 1, 0, 1],\n",
       "       [1, 0, 1, 0, 1, 0, 1, 0],\n",
       "       [0, 1, 0, 1, 0, 1, 0, 1],\n",
       "       [1, 0, 1, 0, 1, 0, 1, 0],\n",
       "       [0, 1, 0, 1, 0, 1, 0, 1],\n",
       "       [1, 0, 1, 0, 1, 0, 1, 0],\n",
       "       [0, 1, 0, 1, 0, 1, 0, 1],\n",
       "       [1, 0, 1, 0, 1, 0, 1, 0]])"
      ]
     },
     "execution_count": 3,
     "metadata": {},
     "output_type": "execute_result"
    }
   ],
   "source": [
    "a = np.tile(np.array([[0,1],[1,0]]), (4,4))\n",
    "a"
   ]
  },
  {
   "cell_type": "markdown",
   "metadata": {},
   "source": [
    "## Normalize a 5x5 random matrix"
   ]
  },
  {
   "cell_type": "code",
   "execution_count": 4,
   "metadata": {},
   "outputs": [
    {
     "data": {
      "text/plain": [
       "array([[0.25429879, 0.05155975, 0.26897951, 0.24510049, 0.01802038],\n",
       "       [0.09687884, 0.23525257, 0.32584248, 0.0151376 , 0.22874525],\n",
       "       [0.08782582, 0.15423295, 0.11206318, 0.08742638, 0.05714285],\n",
       "       [0.19079051, 0.28476989, 0.13916536, 0.13259372, 0.32217794],\n",
       "       [0.14775728, 0.31530052, 0.33028429, 0.01590433, 0.18075311]])"
      ]
     },
     "execution_count": 4,
     "metadata": {},
     "output_type": "execute_result"
    }
   ],
   "source": [
    "a = np.random.random((5, 5))\n",
    "a = a / np.linalg.norm(a)\n",
    "a"
   ]
  },
  {
   "cell_type": "markdown",
   "metadata": {},
   "source": [
    "## How to find common values between two arrays?"
   ]
  },
  {
   "cell_type": "code",
   "execution_count": 5,
   "metadata": {},
   "outputs": [
    {
     "data": {
      "text/plain": [
       "array([1, 4])"
      ]
     },
     "execution_count": 5,
     "metadata": {},
     "output_type": "execute_result"
    }
   ],
   "source": [
    "a1 = [1,2,4,5]\n",
    "a2 = [1,4,8,6]\n",
    "intersect = np.intersect1d(a1, a2)\n",
    "intersect"
   ]
  },
  {
   "cell_type": "markdown",
   "metadata": {},
   "source": [
    "## How to get the dates of yesterday, today and tomorrow?"
   ]
  },
  {
   "cell_type": "code",
   "execution_count": 6,
   "metadata": {},
   "outputs": [
    {
     "name": "stdout",
     "output_type": "stream",
     "text": [
      "Yestraday:  2020-07-25\n",
      "Today:  2020-07-26\n",
      "Tomorrow:  2020-07-27\n"
     ]
    }
   ],
   "source": [
    "yesterday = np.datetime64('today', 'D') - np.timedelta64(1, 'D')\n",
    "print(\"Yestraday: \",yesterday)\n",
    "today     = np.datetime64('today', 'D')\n",
    "print(\"Today: \",today)\n",
    "tomorrow  = np.datetime64('today', 'D') + np.timedelta64(1, 'D')\n",
    "print(\"Tomorrow: \",tomorrow)"
   ]
  },
  {
   "cell_type": "markdown",
   "metadata": {},
   "source": [
    "## Consider two random array A and B, check if they are equal"
   ]
  },
  {
   "cell_type": "code",
   "execution_count": 7,
   "metadata": {},
   "outputs": [
    {
     "name": "stdout",
     "output_type": "stream",
     "text": [
      "A: [4.11529625 2.65500072 1.24440419 2.02550508 5.48752052 2.59729287\n",
      " 2.57346296]\n",
      "B: [5.58577289 8.72553203 3.07277841 8.06993072 2.88187891 9.03879563\n",
      " 7.51478297 1.03213977 8.81857406 2.45440407 9.0461282  9.06848685\n",
      " 3.69995892 5.26649498 2.7416298  2.58151983 3.70486931]\n",
      "Equal: False\n"
     ]
    }
   ],
   "source": [
    "A = np.random.rand(7)*10\n",
    "B = np.random.rand(17)*10\n",
    "print(\"A:\", A)\n",
    "print(\"B:\", B)\n",
    "print(\"Equal:\", np.array_equal(A, B))"
   ]
  },
  {
   "cell_type": "markdown",
   "metadata": {},
   "source": [
    "## Create random vector of size 10 and replace the maximum value by 0"
   ]
  },
  {
   "cell_type": "code",
   "execution_count": 8,
   "metadata": {},
   "outputs": [
    {
     "name": "stdout",
     "output_type": "stream",
     "text": [
      "array Before: [0.81278452 2.5199845  0.28977542 3.31303411 1.93657754 1.33586281\n",
      " 9.03077838 2.76078091 8.90676174 6.44208566]\n",
      "array After: [0.81278452 2.5199845  0.28977542 3.31303411 1.93657754 1.33586281\n",
      " 0.         2.76078091 8.90676174 6.44208566]\n"
     ]
    }
   ],
   "source": [
    "a = np.random.rand(10)*10\n",
    "print(\"array Before:\", a)\n",
    "a[a.argmax()] = 0\n",
    "print(\"array After:\", a)"
   ]
  },
  {
   "cell_type": "markdown",
   "metadata": {},
   "source": [
    "## How to print all the values of an array?"
   ]
  },
  {
   "cell_type": "code",
   "execution_count": 9,
   "metadata": {},
   "outputs": [
    {
     "name": "stdout",
     "output_type": "stream",
     "text": [
      "[[0.45322911 0.46091974 0.63327136 0.41927281 0.80031443 0.05238963\n",
      "  0.46419355 0.04061993 0.22942262 0.72870777]\n",
      " [0.2204512  0.74279774 0.94743864 0.51663813 0.78595845 0.17027545\n",
      "  0.93355609 0.89693358 0.11021492 0.06796325]\n",
      " [0.62522877 0.17040887 0.01816962 0.6444744  0.89511451 0.28359581\n",
      "  0.55420463 0.7821548  0.47089149 0.10136702]\n",
      " [0.18890135 0.54616544 0.61642653 0.14904303 0.66823974 0.44120895\n",
      "  0.93956477 0.34404149 0.52657187 0.81364805]\n",
      " [0.71959829 0.33694211 0.18943039 0.4033268  0.35164021 0.23562696\n",
      "  0.62367922 0.02882695 0.2551772  0.14162765]\n",
      " [0.61542997 0.70449344 0.76329393 0.58466063 0.46988256 0.53578735\n",
      "  0.690754   0.84887315 0.3747303  0.94353743]\n",
      " [0.07238074 0.11828234 0.05114803 0.69362477 0.46184599 0.09820409\n",
      "  0.14647414 0.11661287 0.71793803 0.62656612]\n",
      " [0.08774697 0.56311413 0.54466016 0.68737868 0.21911311 0.86951494\n",
      "  0.44992132 0.67205535 0.90994067 0.73846133]\n",
      " [0.46237097 0.20469224 0.415037   0.18940514 0.11813915 0.67508507\n",
      "  0.76079405 0.1282911  0.55367736 0.87372203]\n",
      " [0.19090124 0.83783664 0.96013721 0.75129466 0.95465567 0.00968366\n",
      "  0.28729642 0.930504   0.44843954 0.39322545]]\n"
     ]
    }
   ],
   "source": [
    "np.set_printoptions(threshold=float(\"inf\"))\n",
    "a = np.random.random((10,10)) \n",
    "print(a)"
   ]
  },
  {
   "cell_type": "markdown",
   "metadata": {},
   "source": [
    "## Subtract the mean of each row of a matrix"
   ]
  },
  {
   "cell_type": "code",
   "execution_count": 10,
   "metadata": {},
   "outputs": [
    {
     "name": "stdout",
     "output_type": "stream",
     "text": [
      "before:\n",
      "\n",
      "[[4 5 5 6]\n",
      " [6 4 6 5]\n",
      " [7 9 1 1]\n",
      " [5 3 1 7]]\n",
      "\n",
      "mean of each row [5.   5.25 4.5  4.  ]\n",
      "\n",
      "after subtracting mean:\n",
      "\n",
      "[[-1.   -0.25  0.5   2.  ]\n",
      " [ 1.   -1.25  1.5   1.  ]\n",
      " [ 2.    3.75 -3.5  -3.  ]\n",
      " [ 0.   -2.25 -3.5   3.  ]]\n"
     ]
    }
   ],
   "source": [
    "print(\"before:\\n\")\n",
    "a = np.random.randint(1, 10, (4,4))\n",
    "print(a)\n",
    "mean =a.mean(axis=1)\n",
    "print('\\nmean of each row',mean)\n",
    "print(\"\\nafter subtracting mean:\\n\")\n",
    "a1 = a - mean\n",
    "print(a1)"
   ]
  },
  {
   "cell_type": "markdown",
   "metadata": {},
   "source": [
    "##  Consider a given vector, how to add 1 to each element indexed by a second vector (be careful with repeated indices)?"
   ]
  },
  {
   "cell_type": "code",
   "execution_count": 11,
   "metadata": {},
   "outputs": [
    {
     "name": "stdout",
     "output_type": "stream",
     "text": [
      "vector before addition\n",
      " [1. 1. 1. 1. 1. 1. 1. 1. 1. 1.]\n",
      "\n",
      "index vector\n",
      " [1, 3, 5, 7, 9, 1]\n",
      "\n",
      "vector before addition\n",
      " [1. 3. 1. 2. 1. 2. 1. 2. 1. 2.]\n"
     ]
    }
   ],
   "source": [
    "a = np.ones(10)\n",
    "print('vector before addition\\n',a) \n",
    "index =[1,3,5,7,9,1]\n",
    "print('\\nindex vector\\n',index) \n",
    "np.add.at(a, index, 1)\n",
    "print('\\nvector before addition\\n',a)"
   ]
  },
  {
   "cell_type": "markdown",
   "metadata": {},
   "source": [
    "## How to get the diagonal of a dot product?"
   ]
  },
  {
   "cell_type": "code",
   "execution_count": 12,
   "metadata": {},
   "outputs": [
    {
     "name": "stdout",
     "output_type": "stream",
     "text": [
      "[[1 2]\n",
      " [4 3]]\n",
      "[[1 2]\n",
      " [4 3]]\n"
     ]
    },
    {
     "data": {
      "text/plain": [
       "array([ 9, 17])"
      ]
     },
     "execution_count": 12,
     "metadata": {},
     "output_type": "execute_result"
    }
   ],
   "source": [
    "A = np.array([[1, 2], [4, 3]])\n",
    "B = np.array([[1, 2], [4, 3]])\n",
    "print(A)\n",
    "print(B)\n",
    "\n",
    "np.diag(np.dot(A, B))"
   ]
  },
  {
   "cell_type": "markdown",
   "metadata": {},
   "source": [
    "## How to find the most frequent value in an array?"
   ]
  },
  {
   "cell_type": "code",
   "execution_count": 13,
   "metadata": {},
   "outputs": [
    {
     "name": "stdout",
     "output_type": "stream",
     "text": [
      "[2 7 3 1 8 4 5 2 4 2]\n",
      "Most Frequent Value: 2\n"
     ]
    }
   ],
   "source": [
    "a = np.random.randint(0,10,10)\n",
    "print (a)\n",
    "most = np.bincount(a).argmax()\n",
    "print('Most Frequent Value:' , most)"
   ]
  },
  {
   "cell_type": "markdown",
   "metadata": {},
   "source": [
    "## How to get the n largest values of an array"
   ]
  },
  {
   "cell_type": "code",
   "execution_count": 14,
   "metadata": {},
   "outputs": [
    {
     "name": "stdout",
     "output_type": "stream",
     "text": [
      "array\n",
      "[32 26 16 29 28 31 20 28 31 21]\n",
      "n-largest\n",
      "[32 31 31]\n"
     ]
    }
   ],
   "source": [
    "a = np.random.randint(3, 50, 10)\n",
    "print('array')\n",
    "print(a)\n",
    "n = 3\n",
    "nlargest = a[(-a).argsort()[:n]]\n",
    "print('n-largest')\n",
    "print(nlargest)"
   ]
  },
  {
   "cell_type": "markdown",
   "metadata": {},
   "source": [
    "## How to create a record array from a regular array?"
   ]
  },
  {
   "cell_type": "code",
   "execution_count": 15,
   "metadata": {},
   "outputs": [
    {
     "data": {
      "text/plain": [
       "rec.array([('101', '102'), ('Jitender', 'Deepak'), ('21', '20')],\n",
       "          dtype=[('Rollno', '<U8'), ('Name', '<U6')])"
      ]
     },
     "execution_count": 15,
     "metadata": {},
     "output_type": "execute_result"
    }
   ],
   "source": [
    "a=np.array([(101, 'Jitender', 21),(102, 'Deepak', 20)])\n",
    "gfg = np.core.records.fromrecords(a.T,names = 'Rollno, Name, Age') \n",
    "gfg"
   ]
  },
  {
   "cell_type": "code",
   "execution_count": null,
   "metadata": {},
   "outputs": [],
   "source": []
  },
  {
   "cell_type": "code",
   "execution_count": null,
   "metadata": {},
   "outputs": [],
   "source": []
  }
 ],
 "metadata": {
  "kernelspec": {
   "display_name": "Python 3",
   "language": "python",
   "name": "python3"
  },
  "language_info": {
   "codemirror_mode": {
    "name": "ipython",
    "version": 3
   },
   "file_extension": ".py",
   "mimetype": "text/x-python",
   "name": "python",
   "nbconvert_exporter": "python",
   "pygments_lexer": "ipython3",
   "version": "3.7.6"
  }
 },
 "nbformat": 4,
 "nbformat_minor": 4
}
